{
 "cells": [
  {
   "cell_type": "markdown",
   "id": "dedicated-headset",
   "metadata": {},
   "source": [
    "# Boston airbnb project"
   ]
  },
  {
   "cell_type": "markdown",
   "id": "cd88ae0c",
   "metadata": {},
   "source": [
    "In this project I will be analysing the Boston airbnb data using the CRISP-DM process. \n",
    "Therefore this notebook will be broken down into the following sections (in accordance to CRISP-DM)\n",
    "\n",
    "* Business Understanding\n",
    "* Data Understanding\n",
    "* Data Preparation\n",
    "* Modelling\n",
    "* Evaluation\n",
    "* Deployment\n",
    "\n"
   ]
  },
  {
   "cell_type": "markdown",
   "id": "a7b741c3",
   "metadata": {},
   "source": [
    "## Business Understanding\n",
    "\n",
    "Airbnb provides a service which helps to match people who are looking to rent with people who are looking to lend. Airbnb uses a __fee for host__ model as their main source of income where a service fee is charged to a visitor and a renting fee is extracted from the host.\n",
    "\n",
    "This notebook will try to focus on how to maximise the price of a given accomodation and also look into how to maximise value for potential visitors."
   ]
  },
  {
   "cell_type": "markdown",
   "id": "028cfc27",
   "metadata": {},
   "source": [
    "__Questions to be answered__\n",
    "\n",
    "* __Which rooms are the most profitable to rent out?__\n",
    "* __Which locations offer the best bang for buck in terms of renting?__\n",
    "* __Which factors affect pricing the most?__ "
   ]
  },
  {
   "cell_type": "code",
   "execution_count": 46,
   "id": "83bab644",
   "metadata": {},
   "outputs": [],
   "source": [
    "import pandas as pd\n",
    "import numpy as np\n",
    "import seaborn as sns\n",
    "import matplotlib.pyplot as plt\n",
    "\n",
    "%matplotlib inline"
   ]
  },
  {
   "cell_type": "markdown",
   "id": "d1092951",
   "metadata": {},
   "source": [
    "## Data understanding"
   ]
  },
  {
   "cell_type": "markdown",
   "id": "919a2c9d",
   "metadata": {},
   "source": [
    "The data used in the analysis was obtained from https://www.kaggle.com/airbnb/boston and contains data about Airbnb activity in Boston.\n",
    "\n",
    "The data used in the analysis is from `listings.csv` and it provides the full descriptions of a listing along with its average review scores."
   ]
  },
  {
   "cell_type": "code",
   "execution_count": 47,
   "id": "eaf44eda",
   "metadata": {},
   "outputs": [],
   "source": [
    "df = pd.read_csv('listings.csv')"
   ]
  },
  {
   "cell_type": "markdown",
   "id": "c17e52b0",
   "metadata": {},
   "source": [
    "## Data preparation"
   ]
  },
  {
   "cell_type": "markdown",
   "id": "corporate-credit",
   "metadata": {},
   "source": [
    "Prior to starting the data modelling phase it is important to clean the data. This means performing preprocessing to transform the data into a more useful form. This typically means dropping irrelevant features and imputing missing values."
   ]
  },
  {
   "cell_type": "markdown",
   "id": "nuclear-hindu",
   "metadata": {},
   "source": [
    "The data was obtained from https://www.kaggle.com/airbnb/boston and contains data about Airbnb activity in Boston."
   ]
  },
  {
   "cell_type": "markdown",
   "id": "a3b95068",
   "metadata": {},
   "source": [
    "The data used in the analysis is from `listings.csv` and it provides the full descriptions of a listing along with its average review scores"
   ]
  },
  {
   "cell_type": "code",
   "execution_count": 48,
   "id": "reverse-motor",
   "metadata": {},
   "outputs": [],
   "source": [
    "df = pd.read_csv('listings.csv') #Load in the data"
   ]
  },
  {
   "cell_type": "code",
   "execution_count": 49,
   "id": "36f9de24",
   "metadata": {},
   "outputs": [
    {
     "name": "stdout",
     "output_type": "stream",
     "text": [
      "<class 'pandas.core.frame.DataFrame'>\n",
      "RangeIndex: 3585 entries, 0 to 3584\n",
      "Data columns (total 95 columns):\n",
      " #   Column                            Non-Null Count  Dtype  \n",
      "---  ------                            --------------  -----  \n",
      " 0   id                                3585 non-null   int64  \n",
      " 1   listing_url                       3585 non-null   object \n",
      " 2   scrape_id                         3585 non-null   int64  \n",
      " 3   last_scraped                      3585 non-null   object \n",
      " 4   name                              3585 non-null   object \n",
      " 5   summary                           3442 non-null   object \n",
      " 6   space                             2528 non-null   object \n",
      " 7   description                       3585 non-null   object \n",
      " 8   experiences_offered               3585 non-null   object \n",
      " 9   neighborhood_overview             2170 non-null   object \n",
      " 10  notes                             1610 non-null   object \n",
      " 11  transit                           2295 non-null   object \n",
      " 12  access                            2096 non-null   object \n",
      " 13  interaction                       2031 non-null   object \n",
      " 14  house_rules                       2393 non-null   object \n",
      " 15  thumbnail_url                     2986 non-null   object \n",
      " 16  medium_url                        2986 non-null   object \n",
      " 17  picture_url                       3585 non-null   object \n",
      " 18  xl_picture_url                    2986 non-null   object \n",
      " 19  host_id                           3585 non-null   int64  \n",
      " 20  host_url                          3585 non-null   object \n",
      " 21  host_name                         3585 non-null   object \n",
      " 22  host_since                        3585 non-null   object \n",
      " 23  host_location                     3574 non-null   object \n",
      " 24  host_about                        2276 non-null   object \n",
      " 25  host_response_time                3114 non-null   object \n",
      " 26  host_response_rate                3114 non-null   object \n",
      " 27  host_acceptance_rate              3114 non-null   object \n",
      " 28  host_is_superhost                 3585 non-null   object \n",
      " 29  host_thumbnail_url                3585 non-null   object \n",
      " 30  host_picture_url                  3585 non-null   object \n",
      " 31  host_neighbourhood                3246 non-null   object \n",
      " 32  host_listings_count               3585 non-null   int64  \n",
      " 33  host_total_listings_count         3585 non-null   int64  \n",
      " 34  host_verifications                3585 non-null   object \n",
      " 35  host_has_profile_pic              3585 non-null   object \n",
      " 36  host_identity_verified            3585 non-null   object \n",
      " 37  street                            3585 non-null   object \n",
      " 38  neighbourhood                     3042 non-null   object \n",
      " 39  neighbourhood_cleansed            3585 non-null   object \n",
      " 40  neighbourhood_group_cleansed      0 non-null      float64\n",
      " 41  city                              3583 non-null   object \n",
      " 42  state                             3585 non-null   object \n",
      " 43  zipcode                           3547 non-null   object \n",
      " 44  market                            3571 non-null   object \n",
      " 45  smart_location                    3585 non-null   object \n",
      " 46  country_code                      3585 non-null   object \n",
      " 47  country                           3585 non-null   object \n",
      " 48  latitude                          3585 non-null   float64\n",
      " 49  longitude                         3585 non-null   float64\n",
      " 50  is_location_exact                 3585 non-null   object \n",
      " 51  property_type                     3582 non-null   object \n",
      " 52  room_type                         3585 non-null   object \n",
      " 53  accommodates                      3585 non-null   int64  \n",
      " 54  bathrooms                         3571 non-null   float64\n",
      " 55  bedrooms                          3575 non-null   float64\n",
      " 56  beds                              3576 non-null   float64\n",
      " 57  bed_type                          3585 non-null   object \n",
      " 58  amenities                         3585 non-null   object \n",
      " 59  square_feet                       56 non-null     float64\n",
      " 60  price                             3585 non-null   object \n",
      " 61  weekly_price                      892 non-null    object \n",
      " 62  monthly_price                     888 non-null    object \n",
      " 63  security_deposit                  1342 non-null   object \n",
      " 64  cleaning_fee                      2478 non-null   object \n",
      " 65  guests_included                   3585 non-null   int64  \n",
      " 66  extra_people                      3585 non-null   object \n",
      " 67  minimum_nights                    3585 non-null   int64  \n",
      " 68  maximum_nights                    3585 non-null   int64  \n",
      " 69  calendar_updated                  3585 non-null   object \n",
      " 70  has_availability                  0 non-null      float64\n",
      " 71  availability_30                   3585 non-null   int64  \n",
      " 72  availability_60                   3585 non-null   int64  \n",
      " 73  availability_90                   3585 non-null   int64  \n",
      " 74  availability_365                  3585 non-null   int64  \n",
      " 75  calendar_last_scraped             3585 non-null   object \n",
      " 76  number_of_reviews                 3585 non-null   int64  \n",
      " 77  first_review                      2829 non-null   object \n",
      " 78  last_review                       2829 non-null   object \n",
      " 79  review_scores_rating              2772 non-null   float64\n",
      " 80  review_scores_accuracy            2762 non-null   float64\n",
      " 81  review_scores_cleanliness         2767 non-null   float64\n",
      " 82  review_scores_checkin             2765 non-null   float64\n",
      " 83  review_scores_communication       2767 non-null   float64\n",
      " 84  review_scores_location            2763 non-null   float64\n",
      " 85  review_scores_value               2764 non-null   float64\n",
      " 86  requires_license                  3585 non-null   object \n",
      " 87  license                           0 non-null      float64\n",
      " 88  jurisdiction_names                0 non-null      float64\n",
      " 89  instant_bookable                  3585 non-null   object \n",
      " 90  cancellation_policy               3585 non-null   object \n",
      " 91  require_guest_profile_picture     3585 non-null   object \n",
      " 92  require_guest_phone_verification  3585 non-null   object \n",
      " 93  calculated_host_listings_count    3585 non-null   int64  \n",
      " 94  reviews_per_month                 2829 non-null   float64\n",
      "dtypes: float64(18), int64(15), object(62)\n",
      "memory usage: 2.6+ MB\n"
     ]
    }
   ],
   "source": [
    "df.info()"
   ]
  },
  {
   "cell_type": "markdown",
   "id": "6fbc1210",
   "metadata": {},
   "source": [
    "There seems to be a lot of objects and it'll be difficult to analyse all of them. Furthermore not all of the 'review scores' will be necessary for the data analysis. The relevant columns have been chosen but it is important to remember that the columns selected are subjective to personal opinion."
   ]
  },
  {
   "cell_type": "code",
   "execution_count": 50,
   "id": "animated-mayor",
   "metadata": {},
   "outputs": [],
   "source": [
    "#Get the relevant columns\n",
    "columns = ['host_id','neighbourhood_cleansed','review_scores_value','price','room_type',\n",
    "           'reviews_per_month','availability_365','calculated_host_listings_count', \n",
    "           'neighbourhood_group_cleansed','longitude', 'latitude']\n",
    "listings = df[columns]"
   ]
  },
  {
   "cell_type": "markdown",
   "id": "greatest-fantasy",
   "metadata": {},
   "source": [
    "The first thing to do is to find out how much of the data is missing"
   ]
  },
  {
   "cell_type": "code",
   "execution_count": 51,
   "id": "atlantic-lyric",
   "metadata": {},
   "outputs": [
    {
     "data": {
      "text/plain": [
       "host_id                           0.000000\n",
       "neighbourhood_cleansed            0.000000\n",
       "review_scores_value               0.229010\n",
       "price                             0.000000\n",
       "room_type                         0.000000\n",
       "reviews_per_month                 0.210879\n",
       "availability_365                  0.000000\n",
       "calculated_host_listings_count    0.000000\n",
       "neighbourhood_group_cleansed      1.000000\n",
       "longitude                         0.000000\n",
       "latitude                          0.000000\n",
       "dtype: float64"
      ]
     },
     "execution_count": 51,
     "metadata": {},
     "output_type": "execute_result"
    }
   ],
   "source": [
    "listings.isna().mean()"
   ]
  },
  {
   "cell_type": "markdown",
   "id": "promising-roller",
   "metadata": {},
   "source": [
    "The neighbourhood_group_cleansed is useless since it is full of missing data. As a result it will be dropped."
   ]
  },
  {
   "cell_type": "code",
   "execution_count": 52,
   "id": "urban-belfast",
   "metadata": {},
   "outputs": [],
   "source": [
    "listings = listings.drop(columns=['neighbourhood_group_cleansed'])"
   ]
  },
  {
   "cell_type": "markdown",
   "id": "moral-invalid",
   "metadata": {},
   "source": [
    "The reviews_per_month column also has some missing values. If the number of reviews is unknown number then there were probably no reviews to begin with. This will be rectified using the `fillna` function to replace unknown values with a value of 0."
   ]
  },
  {
   "cell_type": "code",
   "execution_count": 53,
   "id": "decreased-flour",
   "metadata": {},
   "outputs": [],
   "source": [
    "listings.reviews_per_month.fillna(value=0,inplace=True)"
   ]
  },
  {
   "cell_type": "markdown",
   "id": "reverse-swing",
   "metadata": {},
   "source": [
    "The final missing value are for the review_scores_value. It is safe to assume that this will be likely be the mean value of the review_scores_value column"
   ]
  },
  {
   "cell_type": "code",
   "execution_count": 54,
   "id": "manufactured-bumper",
   "metadata": {},
   "outputs": [],
   "source": [
    "mean_rating = listings.review_scores_value.mean()\n",
    "listings.review_scores_value.fillna(value=mean_rating,inplace=True)"
   ]
  },
  {
   "cell_type": "markdown",
   "id": "bfb64645",
   "metadata": {},
   "source": [
    "The price should also be a float however it appears to be a string. Therefore it is important to identify what the string format is by using the head function"
   ]
  },
  {
   "cell_type": "code",
   "execution_count": 55,
   "id": "western-controversy",
   "metadata": {},
   "outputs": [
    {
     "data": {
      "text/plain": [
       "0    $250.00\n",
       "1     $65.00\n",
       "2     $65.00\n",
       "3     $75.00\n",
       "4     $79.00\n",
       "Name: price, dtype: object"
      ]
     },
     "execution_count": 55,
     "metadata": {},
     "output_type": "execute_result"
    }
   ],
   "source": [
    "listings['price'].head()"
   ]
  },
  {
   "cell_type": "markdown",
   "id": "theoretical-invitation",
   "metadata": {},
   "source": [
    "It was later discovered that there are also commas present in the listings so these commas must also be removed along with the $ signs"
   ]
  },
  {
   "cell_type": "code",
   "execution_count": 56,
   "id": "gentle-bradley",
   "metadata": {},
   "outputs": [],
   "source": [
    "def price_str2num(price):\n",
    "    \"\"\"\n",
    "    This function converts pricing in the form a string $9.99 to a float 9.99\n",
    "    or the string in the form $1,400,00 to the float 1400.00  \n",
    "    \"\"\"\n",
    "    price_without_commas = price.replace(',','')\n",
    "    return float(price_without_commas[1:])"
   ]
  },
  {
   "cell_type": "code",
   "execution_count": 57,
   "id": "independent-outside",
   "metadata": {},
   "outputs": [],
   "source": [
    "listings['price'] = listings['price'].apply(price_str2num)"
   ]
  },
  {
   "cell_type": "code",
   "execution_count": 58,
   "id": "quiet-active",
   "metadata": {},
   "outputs": [
    {
     "data": {
      "text/plain": [
       "0    250.0\n",
       "1     65.0\n",
       "2     65.0\n",
       "3     75.0\n",
       "4     79.0\n",
       "Name: price, dtype: float64"
      ]
     },
     "execution_count": 58,
     "metadata": {},
     "output_type": "execute_result"
    }
   ],
   "source": [
    "listings.price.head()"
   ]
  },
  {
   "cell_type": "markdown",
   "id": "f081d970",
   "metadata": {},
   "source": [
    "Looks like it worked"
   ]
  },
  {
   "cell_type": "markdown",
   "id": "3ddffe78",
   "metadata": {},
   "source": [
    "## Modelling and evaluation"
   ]
  },
  {
   "cell_type": "markdown",
   "id": "f6c8511b",
   "metadata": {},
   "source": [
    "Now that we understand the data and have cleansed the data for our purposing, It can now be possible to start evaluating the data and make some models on it to gain some insight and answer some of out aforementioned questions"
   ]
  },
  {
   "cell_type": "markdown",
   "id": "colored-appreciation",
   "metadata": {},
   "source": [
    "## Which room types are the most profitable to rent out?"
   ]
  },
  {
   "cell_type": "markdown",
   "id": "legal-logistics",
   "metadata": {},
   "source": [
    "When renting out a room, two of the most important factors to consider is how often you intend to rent out the room and for how much. In order to take into account both of these factors a new variable called revenue_per_month will be made which is the multiple of the price and the number of reviews per month. Note that the number of reviews is assumed to be equal to the how often a listing was booked."
   ]
  },
  {
   "cell_type": "code",
   "execution_count": 59,
   "id": "hairy-hungarian",
   "metadata": {},
   "outputs": [],
   "source": [
    "listings['approx_revenue_per_month'] = listings.reviews_per_month * listings.price"
   ]
  },
  {
   "cell_type": "code",
   "execution_count": 60,
   "id": "naval-accessory",
   "metadata": {},
   "outputs": [
    {
     "data": {
      "text/plain": [
       "<AxesSubplot:xlabel='room_type', ylabel='approx_revenue_per_month'>"
      ]
     },
     "execution_count": 60,
     "metadata": {},
     "output_type": "execute_result"
    },
    {
     "data": {
      "image/png": "[encoded data removed]",
      "text/plain": [
       "<Figure size 432x288 with 1 Axes>"
      ]
     },
     "metadata": {
      "needs_background": "light"
     },
     "output_type": "display_data"
    }
   ],
   "source": [
    "sns.boxplot(x='room_type', y='approx_revenue_per_month', data=listings)"
   ]
  },
  {
   "cell_type": "markdown",
   "id": "baking-logan",
   "metadata": {},
   "source": [
    "From the chart above it is clear that the most profitable room type to rent out is the entire home/apartment. Therefore it is recommended to ensure that your rented accomodations be in the form of an entire home/apartment if possible."
   ]
  },
  {
   "cell_type": "markdown",
   "id": "equipped-professional",
   "metadata": {},
   "source": [
    "## Which location gives the best bang for buck"
   ]
  },
  {
   "cell_type": "markdown",
   "id": "integrated-somerset",
   "metadata": {},
   "source": [
    "In this section we will investigate which location gives the best rating for a given price. This will be done by creating a new column called `rating_per_dollar` which shows how much of an increase in rating a dollar investment will give you in a location."
   ]
  },
  {
   "cell_type": "code",
   "execution_count": 61,
   "id": "dimensional-intake",
   "metadata": {},
   "outputs": [],
   "source": [
    "listings['rating_per_dollar'] = listings.review_scores_value / listings.price"
   ]
  },
  {
   "cell_type": "code",
   "execution_count": 62,
   "id": "forced-miami",
   "metadata": {},
   "outputs": [
    {
     "data": {
      "text/plain": [
       "0    0.036673\n",
       "1    0.138462\n",
       "2    0.153846\n",
       "3    0.133333\n",
       "4    0.126582\n",
       "Name: rating_per_dollar, dtype: float64"
      ]
     },
     "execution_count": 62,
     "metadata": {},
     "output_type": "execute_result"
    }
   ],
   "source": [
    "listings.rating_per_dollar.head()"
   ]
  },
  {
   "cell_type": "markdown",
   "id": "03af11ec",
   "metadata": {},
   "source": [
    "It's probably best to create another dataframe specifically for analysing the `rating per dollar` for each of the neighbourhoods."
   ]
  },
  {
   "cell_type": "code",
   "execution_count": 63,
   "id": "white-implement",
   "metadata": {},
   "outputs": [],
   "source": [
    "data = listings.groupby('neighbourhood_cleansed')['rating_per_dollar'].apply(np.mean)"
   ]
  },
  {
   "cell_type": "code",
   "execution_count": 64,
   "id": "related-guidance",
   "metadata": {},
   "outputs": [],
   "source": [
    "neighbourhood_comp_cols = ['rating_per_dollar']\n",
    "neighbourhood_comp = listings.groupby('neighbourhood_cleansed')[neighbourhood_comp_cols].apply(np.mean)"
   ]
  },
  {
   "cell_type": "markdown",
   "id": "ded0e61c",
   "metadata": {},
   "source": [
    "The geographic data needs to be obtained in order to produce a chloropleth. This was done using https://data.boston.gov/dataset/city-of-boston-boundary. Furthermore the `geopandas` library will be used to read this data."
   ]
  },
  {
   "cell_type": "code",
   "execution_count": 65,
   "id": "conscious-vintage",
   "metadata": {},
   "outputs": [
    {
     "data": {
      "text/html": [
       "<div>\n",
       "<style scoped>\n",
       "    .dataframe tbody tr th:only-of-type {\n",
       "        vertical-align: middle;\n",
       "    }\n",
       "\n",
       "    .dataframe tbody tr th {\n",
       "        vertical-align: top;\n",
       "    }\n",
       "\n",
       "    .dataframe thead th {\n",
       "        text-align: right;\n",
       "    }\n",
       "</style>\n",
       "<table border=\"1\" class=\"dataframe\">\n",
       "  <thead>\n",
       "    <tr style=\"text-align: right;\">\n",
       "      <th></th>\n",
       "      <th>OBJECTID</th>\n",
       "      <th>Name</th>\n",
       "      <th>Acres</th>\n",
       "      <th>SHAPE_area</th>\n",
       "      <th>SHAPE_len</th>\n",
       "      <th>geometry</th>\n",
       "    </tr>\n",
       "  </thead>\n",
       "  <tbody>\n",
       "    <tr>\n",
       "      <th>0</th>\n",
       "      <td>1.0</td>\n",
       "      <td>Roslindale</td>\n",
       "      <td>1605.561815</td>\n",
       "      <td>6.993827e+07</td>\n",
       "      <td>53563.912597</td>\n",
       "      <td>MULTIPOLYGON (((757409.123 2924367.749, 757457...</td>\n",
       "    </tr>\n",
       "    <tr>\n",
       "      <th>1</th>\n",
       "      <td>2.0</td>\n",
       "      <td>Jamaica Plain</td>\n",
       "      <td>2519.235317</td>\n",
       "      <td>1.097379e+08</td>\n",
       "      <td>56349.937161</td>\n",
       "      <td>POLYGON ((762983.826 2944104.016, 763014.250 2...</td>\n",
       "    </tr>\n",
       "    <tr>\n",
       "      <th>2</th>\n",
       "      <td>3.0</td>\n",
       "      <td>Mission Hill</td>\n",
       "      <td>350.852160</td>\n",
       "      <td>1.528312e+07</td>\n",
       "      <td>17918.724114</td>\n",
       "      <td>POLYGON ((766903.580 2947645.876, 766280.013 2...</td>\n",
       "    </tr>\n",
       "    <tr>\n",
       "      <th>3</th>\n",
       "      <td>4.0</td>\n",
       "      <td>Longwood Medical Area</td>\n",
       "      <td>188.611192</td>\n",
       "      <td>8.215904e+06</td>\n",
       "      <td>11908.757148</td>\n",
       "      <td>POLYGON ((764826.911 2947985.998, 764607.180 2...</td>\n",
       "    </tr>\n",
       "    <tr>\n",
       "      <th>4</th>\n",
       "      <td>5.0</td>\n",
       "      <td>Bay Village</td>\n",
       "      <td>26.539733</td>\n",
       "      <td>1.156071e+06</td>\n",
       "      <td>4650.635493</td>\n",
       "      <td>POLYGON ((773315.750 2952419.751, 773111.500 2...</td>\n",
       "    </tr>\n",
       "  </tbody>\n",
       "</table>\n",
       "</div>"
      ],
      "text/plain": [
       "   OBJECTID                   Name        Acres    SHAPE_area     SHAPE_len  \\\n",
       "0       1.0             Roslindale  1605.561815  6.993827e+07  53563.912597   \n",
       "1       2.0          Jamaica Plain  2519.235317  1.097379e+08  56349.937161   \n",
       "2       3.0           Mission Hill   350.852160  1.528312e+07  17918.724114   \n",
       "3       4.0  Longwood Medical Area   188.611192  8.215904e+06  11908.757148   \n",
       "4       5.0            Bay Village    26.539733  1.156071e+06   4650.635493   \n",
       "\n",
       "                                            geometry  \n",
       "0  MULTIPOLYGON (((757409.123 2924367.749, 757457...  \n",
       "1  POLYGON ((762983.826 2944104.016, 763014.250 2...  \n",
       "2  POLYGON ((766903.580 2947645.876, 766280.013 2...  \n",
       "3  POLYGON ((764826.911 2947985.998, 764607.180 2...  \n",
       "4  POLYGON ((773315.750 2952419.751, 773111.500 2...  "
      ]
     },
     "execution_count": 65,
     "metadata": {},
     "output_type": "execute_result"
    }
   ],
   "source": [
    "import geopandas as gpd\n",
    "sd = 'map/boston_neighborhood_shapefiles_iq5.shp'\n",
    "boston_mapdf = gpd.read_file(sd)\n",
    "boston_mapdf.head()"
   ]
  },
  {
   "cell_type": "code",
   "execution_count": 66,
   "id": "front-extent",
   "metadata": {},
   "outputs": [
    {
     "data": {
      "text/plain": [
       "Index(['OBJECTID', 'Name', 'Acres', 'SHAPE_area', 'SHAPE_len', 'geometry'], dtype='object')"
      ]
     },
     "execution_count": 66,
     "metadata": {},
     "output_type": "execute_result"
    }
   ],
   "source": [
    "boston_mapdf.columns"
   ]
  },
  {
   "cell_type": "markdown",
   "id": "e77f8cd0",
   "metadata": {},
   "source": [
    "Everyting looks good so far. In order to create a chloropleth though its better to merge the previously made `neighbourhood_comp` with the `boston_mapdf` dataframe. This will be done by performing an inner merge on the name of the neighbourhoods. However this requires changing the name of the1 `boston_mapdf` column `name` into `neighbourhood_cleansed`."
   ]
  },
  {
   "cell_type": "code",
   "execution_count": 67,
   "id": "suspended-australian",
   "metadata": {},
   "outputs": [],
   "source": [
    "boston_mapdf.columns = ['OBJECTID', 'neighbourhood_cleansed', 'Acres', 'SHAPE_area', 'SHAPE_len', 'geometry']"
   ]
  },
  {
   "cell_type": "code",
   "execution_count": 68,
   "id": "approved-brazil",
   "metadata": {},
   "outputs": [
    {
     "data": {
      "text/html": [
       "<div>\n",
       "<style scoped>\n",
       "    .dataframe tbody tr th:only-of-type {\n",
       "        vertical-align: middle;\n",
       "    }\n",
       "\n",
       "    .dataframe tbody tr th {\n",
       "        vertical-align: top;\n",
       "    }\n",
       "\n",
       "    .dataframe thead th {\n",
       "        text-align: right;\n",
       "    }\n",
       "</style>\n",
       "<table border=\"1\" class=\"dataframe\">\n",
       "  <thead>\n",
       "    <tr style=\"text-align: right;\">\n",
       "      <th></th>\n",
       "      <th>OBJECTID</th>\n",
       "      <th>neighbourhood_cleansed</th>\n",
       "      <th>Acres</th>\n",
       "      <th>SHAPE_area</th>\n",
       "      <th>SHAPE_len</th>\n",
       "      <th>geometry</th>\n",
       "    </tr>\n",
       "  </thead>\n",
       "  <tbody>\n",
       "    <tr>\n",
       "      <th>0</th>\n",
       "      <td>1.0</td>\n",
       "      <td>Roslindale</td>\n",
       "      <td>1605.561815</td>\n",
       "      <td>6.993827e+07</td>\n",
       "      <td>53563.912597</td>\n",
       "      <td>MULTIPOLYGON (((757409.123 2924367.749, 757457...</td>\n",
       "    </tr>\n",
       "    <tr>\n",
       "      <th>1</th>\n",
       "      <td>2.0</td>\n",
       "      <td>Jamaica Plain</td>\n",
       "      <td>2519.235317</td>\n",
       "      <td>1.097379e+08</td>\n",
       "      <td>56349.937161</td>\n",
       "      <td>POLYGON ((762983.826 2944104.016, 763014.250 2...</td>\n",
       "    </tr>\n",
       "    <tr>\n",
       "      <th>2</th>\n",
       "      <td>3.0</td>\n",
       "      <td>Mission Hill</td>\n",
       "      <td>350.852160</td>\n",
       "      <td>1.528312e+07</td>\n",
       "      <td>17918.724114</td>\n",
       "      <td>POLYGON ((766903.580 2947645.876, 766280.013 2...</td>\n",
       "    </tr>\n",
       "    <tr>\n",
       "      <th>3</th>\n",
       "      <td>4.0</td>\n",
       "      <td>Longwood Medical Area</td>\n",
       "      <td>188.611192</td>\n",
       "      <td>8.215904e+06</td>\n",
       "      <td>11908.757148</td>\n",
       "      <td>POLYGON ((764826.911 2947985.998, 764607.180 2...</td>\n",
       "    </tr>\n",
       "    <tr>\n",
       "      <th>4</th>\n",
       "      <td>5.0</td>\n",
       "      <td>Bay Village</td>\n",
       "      <td>26.539733</td>\n",
       "      <td>1.156071e+06</td>\n",
       "      <td>4650.635493</td>\n",
       "      <td>POLYGON ((773315.750 2952419.751, 773111.500 2...</td>\n",
       "    </tr>\n",
       "  </tbody>\n",
       "</table>\n",
       "</div>"
      ],
      "text/plain": [
       "   OBJECTID neighbourhood_cleansed        Acres    SHAPE_area     SHAPE_len  \\\n",
       "0       1.0             Roslindale  1605.561815  6.993827e+07  53563.912597   \n",
       "1       2.0          Jamaica Plain  2519.235317  1.097379e+08  56349.937161   \n",
       "2       3.0           Mission Hill   350.852160  1.528312e+07  17918.724114   \n",
       "3       4.0  Longwood Medical Area   188.611192  8.215904e+06  11908.757148   \n",
       "4       5.0            Bay Village    26.539733  1.156071e+06   4650.635493   \n",
       "\n",
       "                                            geometry  \n",
       "0  MULTIPOLYGON (((757409.123 2924367.749, 757457...  \n",
       "1  POLYGON ((762983.826 2944104.016, 763014.250 2...  \n",
       "2  POLYGON ((766903.580 2947645.876, 766280.013 2...  \n",
       "3  POLYGON ((764826.911 2947985.998, 764607.180 2...  \n",
       "4  POLYGON ((773315.750 2952419.751, 773111.500 2...  "
      ]
     },
     "execution_count": 68,
     "metadata": {},
     "output_type": "execute_result"
    }
   ],
   "source": [
    "boston_mapdf.head()"
   ]
  },
  {
   "cell_type": "markdown",
   "id": "acd55391",
   "metadata": {},
   "source": [
    "So far so good"
   ]
  },
  {
   "cell_type": "code",
   "execution_count": 69,
   "id": "bearing-burner",
   "metadata": {
    "scrolled": true
   },
   "outputs": [
    {
     "data": {
      "text/html": [
       "<div>\n",
       "<style scoped>\n",
       "    .dataframe tbody tr th:only-of-type {\n",
       "        vertical-align: middle;\n",
       "    }\n",
       "\n",
       "    .dataframe tbody tr th {\n",
       "        vertical-align: top;\n",
       "    }\n",
       "\n",
       "    .dataframe thead th {\n",
       "        text-align: right;\n",
       "    }\n",
       "</style>\n",
       "<table border=\"1\" class=\"dataframe\">\n",
       "  <thead>\n",
       "    <tr style=\"text-align: right;\">\n",
       "      <th></th>\n",
       "      <th>OBJECTID</th>\n",
       "      <th>neighbourhood_cleansed</th>\n",
       "      <th>Acres</th>\n",
       "      <th>SHAPE_area</th>\n",
       "      <th>SHAPE_len</th>\n",
       "      <th>geometry</th>\n",
       "      <th>rating_per_dollar</th>\n",
       "    </tr>\n",
       "  </thead>\n",
       "  <tbody>\n",
       "    <tr>\n",
       "      <th>0</th>\n",
       "      <td>1.0</td>\n",
       "      <td>Roslindale</td>\n",
       "      <td>1605.561815</td>\n",
       "      <td>6.993827e+07</td>\n",
       "      <td>53563.912597</td>\n",
       "      <td>MULTIPOLYGON (((757409.123 2924367.749, 757457...</td>\n",
       "      <td>0.122497</td>\n",
       "    </tr>\n",
       "    <tr>\n",
       "      <th>1</th>\n",
       "      <td>2.0</td>\n",
       "      <td>Jamaica Plain</td>\n",
       "      <td>2519.235317</td>\n",
       "      <td>1.097379e+08</td>\n",
       "      <td>56349.937161</td>\n",
       "      <td>POLYGON ((762983.826 2944104.016, 763014.250 2...</td>\n",
       "      <td>0.096623</td>\n",
       "    </tr>\n",
       "    <tr>\n",
       "      <th>2</th>\n",
       "      <td>3.0</td>\n",
       "      <td>Mission Hill</td>\n",
       "      <td>350.852160</td>\n",
       "      <td>1.528312e+07</td>\n",
       "      <td>17918.724114</td>\n",
       "      <td>POLYGON ((766903.580 2947645.876, 766280.013 2...</td>\n",
       "      <td>0.111743</td>\n",
       "    </tr>\n",
       "    <tr>\n",
       "      <th>3</th>\n",
       "      <td>4.0</td>\n",
       "      <td>Longwood Medical Area</td>\n",
       "      <td>188.611192</td>\n",
       "      <td>8.215904e+06</td>\n",
       "      <td>11908.757148</td>\n",
       "      <td>POLYGON ((764826.911 2947985.998, 764607.180 2...</td>\n",
       "      <td>0.093973</td>\n",
       "    </tr>\n",
       "    <tr>\n",
       "      <th>4</th>\n",
       "      <td>5.0</td>\n",
       "      <td>Bay Village</td>\n",
       "      <td>26.539733</td>\n",
       "      <td>1.156071e+06</td>\n",
       "      <td>4650.635493</td>\n",
       "      <td>POLYGON ((773315.750 2952419.751, 773111.500 2...</td>\n",
       "      <td>0.046762</td>\n",
       "    </tr>\n",
       "  </tbody>\n",
       "</table>\n",
       "</div>"
      ],
      "text/plain": [
       "   OBJECTID neighbourhood_cleansed        Acres    SHAPE_area     SHAPE_len  \\\n",
       "0       1.0             Roslindale  1605.561815  6.993827e+07  53563.912597   \n",
       "1       2.0          Jamaica Plain  2519.235317  1.097379e+08  56349.937161   \n",
       "2       3.0           Mission Hill   350.852160  1.528312e+07  17918.724114   \n",
       "3       4.0  Longwood Medical Area   188.611192  8.215904e+06  11908.757148   \n",
       "4       5.0            Bay Village    26.539733  1.156071e+06   4650.635493   \n",
       "\n",
       "                                            geometry  rating_per_dollar  \n",
       "0  MULTIPOLYGON (((757409.123 2924367.749, 757457...           0.122497  \n",
       "1  POLYGON ((762983.826 2944104.016, 763014.250 2...           0.096623  \n",
       "2  POLYGON ((766903.580 2947645.876, 766280.013 2...           0.111743  \n",
       "3  POLYGON ((764826.911 2947985.998, 764607.180 2...           0.093973  \n",
       "4  POLYGON ((773315.750 2952419.751, 773111.500 2...           0.046762  "
      ]
     },
     "execution_count": 69,
     "metadata": {},
     "output_type": "execute_result"
    }
   ],
   "source": [
    "chloropleth_data = pd.merge(boston_mapdf,neighbourhood_comp, how='inner', on='neighbourhood_cleansed')\n",
    "chloropleth_data.head()"
   ]
  },
  {
   "cell_type": "markdown",
   "id": "8f62be1f",
   "metadata": {},
   "source": [
    "In order to start plotting the centroid of each shape of the neighbourhood boundaries needs to be defined. Fortunately this is already predefined within the `geometry` column."
   ]
  },
  {
   "cell_type": "code",
   "execution_count": 70,
   "id": "cleared-nurse",
   "metadata": {},
   "outputs": [],
   "source": [
    "chloropleth_data['centre'] = chloropleth_data.geometry.centroid # Get centroid to plot data"
   ]
  },
  {
   "cell_type": "code",
   "execution_count": 71,
   "id": "joint-trace",
   "metadata": {},
   "outputs": [
    {
     "data": {
      "text/plain": [
       "1"
      ]
     },
     "execution_count": 71,
     "metadata": {},
     "output_type": "execute_result"
    },
    {
     "data": {
      "image/png": "[encoded data removed]",
      "text/plain": [
       "<Figure size 936x720 with 2 Axes>"
      ]
     },
     "metadata": {
      "needs_background": "light"
     },
     "output_type": "display_data"
    }
   ],
   "source": [
    "import adjustText as aT #This is to make the neighbourhood labels less clustered\n",
    "vmin, vmax = 0, 0.15\n",
    "\n",
    "# create figure and axes for Matplotlib\n",
    "fig, ax = plt.subplots(1, figsize=(13,10))\n",
    "\n",
    "# add a title and annotation\n",
    "ax.set_title('', fontdict={'fontsize': '25', 'fontweight' : '3'})\n",
    "\n",
    "# create map\n",
    "chloropleth_data.plot(column='rating_per_dollar', cmap='GnBu', linewidth=1, ax=ax, edgecolor='.5')\n",
    "\n",
    "\n",
    "### Add a colar bar\n",
    "ax.axis('off')\n",
    "\n",
    "# Create colorbar legend\n",
    "sm = plt.cm.ScalarMappable(cmap='GnBu', norm=plt.Normalize(vmin=vmin, vmax=vmax))\n",
    "\n",
    "# empty array for the data range\n",
    "sm.set_array([])\n",
    "\n",
    "#add colorbar\n",
    "cbar = fig.colorbar(sm)\n",
    "\n",
    "### Label areas\n",
    "\n",
    "chloropleth_data['centre'] = chloropleth_data.geometry.centroid # Get centroid to plot data\n",
    "za_points = chloropleth_data.copy()\n",
    "za_points.set_geometry(\"centre\",inplace = True)\n",
    "\n",
    "\n",
    "texts = []\n",
    "\n",
    "for x, y, label, area in zip(za_points.geometry.x, za_points.geometry.y, za_points[\"neighbourhood_cleansed\"],\n",
    "                            za_points.Acres):\n",
    "    texts.append(plt.text(x, y, label, fontsize = 9))\n",
    "\n",
    "aT.adjust_text(texts, force_points=0.2, force_text=0.7, expand_points=(1,1), expand_text=(1.01,1.01), \n",
    "               arrowprops=dict(arrowstyle=\"-\", color='red', lw=0.5))"
   ]
  },
  {
   "cell_type": "markdown",
   "id": "7cd64877",
   "metadata": {},
   "source": [
    "From the above figure it looks like the southern most areas get the highest rating per dollar and as you go further north the rating per dollar decreases. East Boston does defy this trend and there are a couple of other counterexamples to this statement. It also looks like if you want to stay somewhere Hyde Park will give you the best value."
   ]
  },
  {
   "cell_type": "markdown",
   "id": "found-bennett",
   "metadata": {},
   "source": [
    "## Which factors affect the pricing of a airbnb listing the most "
   ]
  },
  {
   "cell_type": "markdown",
   "id": "1a0da71c",
   "metadata": {},
   "source": [
    "If you're a landlord then you probably wanna figure out which aspects of your property you want to improve on the most to raise the price. This will be done by using a machine learning model and using the parameters of the fitted model to determine the feature importance. Xgboost will be used since this is the state of the art for small to medium datasets at the time of writing."
   ]
  },
  {
   "cell_type": "code",
   "execution_count": 73,
   "id": "collaborative-burner",
   "metadata": {},
   "outputs": [],
   "source": [
    "from sklearn.model_selection import train_test_split\n",
    "\n",
    "from sklearn.pipeline import Pipeline\n",
    "from sklearn.impute import SimpleImputer\n",
    "from sklearn.preprocessing import OneHotEncoder, StandardScaler\n",
    "from sklearn.compose import ColumnTransformer\n",
    "\n",
    "from xgboost import XGBRegressor"
   ]
  },
  {
   "cell_type": "code",
   "execution_count": 88,
   "id": "6c9efea4",
   "metadata": {},
   "outputs": [],
   "source": [
    "df = pd.read_csv('listings.csv')\n",
    "df_price = df.price.apply(price_str2num)"
   ]
  },
  {
   "cell_type": "code",
   "execution_count": 94,
   "id": "30a4e346",
   "metadata": {},
   "outputs": [
    {
     "name": "stdout",
     "output_type": "stream",
     "text": [
      "<class 'pandas.core.frame.DataFrame'>\n",
      "RangeIndex: 3585 entries, 0 to 3584\n",
      "Data columns (total 95 columns):\n",
      " #   Column                            Non-Null Count  Dtype  \n",
      "---  ------                            --------------  -----  \n",
      " 0   id                                3585 non-null   int64  \n",
      " 1   listing_url                       3585 non-null   object \n",
      " 2   scrape_id                         3585 non-null   int64  \n",
      " 3   last_scraped                      3585 non-null   object \n",
      " 4   name                              3585 non-null   object \n",
      " 5   summary                           3442 non-null   object \n",
      " 6   space                             2528 non-null   object \n",
      " 7   description                       3585 non-null   object \n",
      " 8   experiences_offered               3585 non-null   object \n",
      " 9   neighborhood_overview             2170 non-null   object \n",
      " 10  notes                             1610 non-null   object \n",
      " 11  transit                           2295 non-null   object \n",
      " 12  access                            2096 non-null   object \n",
      " 13  interaction                       2031 non-null   object \n",
      " 14  house_rules                       2393 non-null   object \n",
      " 15  thumbnail_url                     2986 non-null   object \n",
      " 16  medium_url                        2986 non-null   object \n",
      " 17  picture_url                       3585 non-null   object \n",
      " 18  xl_picture_url                    2986 non-null   object \n",
      " 19  host_id                           3585 non-null   int64  \n",
      " 20  host_url                          3585 non-null   object \n",
      " 21  host_name                         3585 non-null   object \n",
      " 22  host_since                        3585 non-null   object \n",
      " 23  host_location                     3574 non-null   object \n",
      " 24  host_about                        2276 non-null   object \n",
      " 25  host_response_time                3114 non-null   object \n",
      " 26  host_response_rate                3114 non-null   object \n",
      " 27  host_acceptance_rate              3114 non-null   object \n",
      " 28  host_is_superhost                 3585 non-null   object \n",
      " 29  host_thumbnail_url                3585 non-null   object \n",
      " 30  host_picture_url                  3585 non-null   object \n",
      " 31  host_neighbourhood                3246 non-null   object \n",
      " 32  host_listings_count               3585 non-null   int64  \n",
      " 33  host_total_listings_count         3585 non-null   int64  \n",
      " 34  host_verifications                3585 non-null   object \n",
      " 35  host_has_profile_pic              3585 non-null   object \n",
      " 36  host_identity_verified            3585 non-null   object \n",
      " 37  street                            3585 non-null   object \n",
      " 38  neighbourhood                     3042 non-null   object \n",
      " 39  neighbourhood_cleansed            3585 non-null   object \n",
      " 40  neighbourhood_group_cleansed      0 non-null      float64\n",
      " 41  city                              3583 non-null   object \n",
      " 42  state                             3585 non-null   object \n",
      " 43  zipcode                           3547 non-null   object \n",
      " 44  market                            3571 non-null   object \n",
      " 45  smart_location                    3585 non-null   object \n",
      " 46  country_code                      3585 non-null   object \n",
      " 47  country                           3585 non-null   object \n",
      " 48  latitude                          3585 non-null   float64\n",
      " 49  longitude                         3585 non-null   float64\n",
      " 50  is_location_exact                 3585 non-null   object \n",
      " 51  property_type                     3582 non-null   object \n",
      " 52  room_type                         3585 non-null   object \n",
      " 53  accommodates                      3585 non-null   int64  \n",
      " 54  bathrooms                         3571 non-null   float64\n",
      " 55  bedrooms                          3575 non-null   float64\n",
      " 56  beds                              3576 non-null   float64\n",
      " 57  bed_type                          3585 non-null   object \n",
      " 58  amenities                         3585 non-null   object \n",
      " 59  square_feet                       56 non-null     float64\n",
      " 60  price                             3585 non-null   object \n",
      " 61  weekly_price                      892 non-null    object \n",
      " 62  monthly_price                     888 non-null    object \n",
      " 63  security_deposit                  1342 non-null   object \n",
      " 64  cleaning_fee                      2478 non-null   object \n",
      " 65  guests_included                   3585 non-null   int64  \n",
      " 66  extra_people                      3585 non-null   object \n",
      " 67  minimum_nights                    3585 non-null   int64  \n",
      " 68  maximum_nights                    3585 non-null   int64  \n",
      " 69  calendar_updated                  3585 non-null   object \n",
      " 70  has_availability                  0 non-null      float64\n",
      " 71  availability_30                   3585 non-null   int64  \n",
      " 72  availability_60                   3585 non-null   int64  \n",
      " 73  availability_90                   3585 non-null   int64  \n",
      " 74  availability_365                  3585 non-null   int64  \n",
      " 75  calendar_last_scraped             3585 non-null   object \n",
      " 76  number_of_reviews                 3585 non-null   int64  \n",
      " 77  first_review                      2829 non-null   object \n",
      " 78  last_review                       2829 non-null   object \n",
      " 79  review_scores_rating              2772 non-null   float64\n",
      " 80  review_scores_accuracy            2762 non-null   float64\n",
      " 81  review_scores_cleanliness         2767 non-null   float64\n",
      " 82  review_scores_checkin             2765 non-null   float64\n",
      " 83  review_scores_communication       2767 non-null   float64\n",
      " 84  review_scores_location            2763 non-null   float64\n",
      " 85  review_scores_value               2764 non-null   float64\n",
      " 86  requires_license                  3585 non-null   object \n",
      " 87  license                           0 non-null      float64\n",
      " 88  jurisdiction_names                0 non-null      float64\n",
      " 89  instant_bookable                  3585 non-null   object \n",
      " 90  cancellation_policy               3585 non-null   object \n",
      " 91  require_guest_profile_picture     3585 non-null   object \n",
      " 92  require_guest_phone_verification  3585 non-null   object \n",
      " 93  calculated_host_listings_count    3585 non-null   int64  \n",
      " 94  reviews_per_month                 2829 non-null   float64\n",
      "dtypes: float64(18), int64(15), object(62)\n",
      "memory usage: 2.6+ MB\n"
     ]
    }
   ],
   "source": [
    "df.info()"
   ]
  },
  {
   "cell_type": "markdown",
   "id": "fa0cef96",
   "metadata": {},
   "source": [
    "So there are a few columns where the number of non-nulls are just too low like `has_availability`. These columns will be dropped along with redundant columns which don't offer much information like `state`."
   ]
  },
  {
   "cell_type": "code",
   "execution_count": 95,
   "id": "6e974ea1",
   "metadata": {},
   "outputs": [],
   "source": [
    "df_filt_dropped = df_filtered.drop(columns=['license','jurisdiction_names','neighbourhood_group_cleansed',\n",
    "                                            'square_feet','has_availability','latitude','longitude',\n",
    "                                            'state','country_code','country','id', 'scrape_id', 'host_id'])"
   ]
  },
  {
   "cell_type": "markdown",
   "id": "14adbe58",
   "metadata": {},
   "source": [
    "Now what is left is to create a pipeline for data and the machine learning model. First the missing data will be imputed using the mean (this makes sense since the data is numerical) and then scaled so that large values don't affect the training of the model. Finally the xg boosting algorithm will be used to perform regression the price."
   ]
  },
  {
   "cell_type": "code",
   "execution_count": 96,
   "id": "e46bbafd",
   "metadata": {},
   "outputs": [],
   "source": [
    "ml_pipeline = Pipeline(steps=[\n",
    "        ('imputer',SimpleImputer(strategy='mean')),\n",
    "        ('scaler', StandardScaler()),\n",
    "        ('model',XGBRegressor())\n",
    "])"
   ]
  },
  {
   "cell_type": "markdown",
   "id": "10dbbcbb",
   "metadata": {},
   "source": [
    "Now lets build the model. We'll just fit across the entire dataset since the model is just gonna be used to identify the most important features, not make predictions on price."
   ]
  },
  {
   "cell_type": "code",
   "execution_count": 97,
   "id": "20ee27b7",
   "metadata": {},
   "outputs": [],
   "source": [
    "X = df_filt_dropped.select_dtypes(include=['int','float'])\n",
    "y = df_price"
   ]
  },
  {
   "cell_type": "code",
   "execution_count": 98,
   "id": "d42d0e2f",
   "metadata": {},
   "outputs": [],
   "source": [
    "def plot_sig_features(pipeline,X,y,n=5):\n",
    "    \"\"\"\n",
    "    Creates a normalised plot of the most significant features.\n",
    "    pipeline: Should be a pipeline of the relevant preprocessing steps and the model.\n",
    "    The pipeline must have the ML step named 'model' and the model must have a feature_importances_\n",
    "    attribute.\n",
    "    X: A pandas dataframe of the features\n",
    "    y:The regressor/classes\n",
    "    n: The number of features to plot\n",
    "    \"\"\"\n",
    "    pipeline.fit(X,y)\n",
    "    signif = pipeline['model'].feature_importances_\n",
    "    index = np.argsort(signif)[::-1][:n]\n",
    "    \n",
    "    col_names = X.columns[index]\n",
    "    signif2plot = signif[index]\n",
    "    \n",
    "    plt.barh(col_names,signif2plot)\n",
    "    plt.title('Feature Importances')\n",
    "    plt.ylabel('Features')\n",
    "    plt.xlabel('Normalised Feature Importances')\n",
    "    plt.show()\n",
    "    "
   ]
  },
  {
   "cell_type": "code",
   "execution_count": 99,
   "id": "45f55f49",
   "metadata": {},
   "outputs": [
    {
     "data": {
      "image/png": "[encoded data removed]",
      "text/plain": [
       "<Figure size 432x288 with 1 Axes>"
      ]
     },
     "metadata": {
      "needs_background": "light"
     },
     "output_type": "display_data"
    }
   ],
   "source": [
    "plot_sig_features(ml_pipeline,X,y)"
   ]
  },
  {
   "cell_type": "markdown",
   "id": "99219717",
   "metadata": {},
   "source": [
    "The most important factor by far in determining the price of an accomodation are the number of bedrooms. The second most important factor is the number of bathrooms. This indicates that the most important factors in determining the price are associated with the number of rooms and likely the overall size of the accomodation. This is further evidenced by the `accomodates` feature which represents how many people a given accomodation can facilitate.\n",
    "\n",
    "The `guests_included` column represents the number of guests which are included in the price per night. This implies that including more people can help raise the overall price of the accommodation. However it is noted that the price per person may drop so further research may be required in this regard.\n",
    "\n",
    "What is interesting is that the `availability_60` feature has more importance than the `availability_365` feature. This implies that people hold more weight towards being able to stay within the timeframe of a couple months rather than the entirety of the year.  "
   ]
  },
  {
   "cell_type": "markdown",
   "id": "90a3e10e",
   "metadata": {},
   "source": [
    "## Deployment"
   ]
  },
  {
   "cell_type": "markdown",
   "id": "3750bd1c",
   "metadata": {},
   "source": [
    "From this notebook we have answered all the questions and have attained the following actionable information from each of the respective questions:\n",
    "\n",
    "* __Which rooms are the most profitable to rent out?__\n",
    "\n",
    "The most profitable rooms (in terms of revenue per month) to rent out are entire homes/apartments.\n",
    "\n",
    "* __Which locations offer the best bang for buck in terms of renting?__\n",
    "\n",
    "The best area to rent out in terms of rating per dollar is Hyde Park. With most of the best bang for buck locations being in the south of boston.\n",
    "\n",
    "* __Which factors affect pricing the most?__ \n",
    "\n",
    "The most important features in determining the pricing of an accomodation by far are the number of bedrooms. Furthermore what is interesting is that most of the features such are largely associated with the overall size of the accomodation and it's ability to comfortably facilitate more guests."
   ]
  },
  {
   "cell_type": "markdown",
   "id": "2b8d3caf",
   "metadata": {},
   "source": [
    "## Resources Used"
   ]
  },
  {
   "cell_type": "markdown",
   "id": "373da5ad",
   "metadata": {},
   "source": [
    "* https://www.kaggle.com/airbnb/boston: Data used to get information of listings\n",
    "* https://data.boston.gov/dataset/city-of-boston-boundary: Data for the shapefile used to produce the chloropleth\n",
    "* https://www.programmersought.com/article/27117592996/: A tutorial to show how to use the `geopandas` and `adjustText` library effectively.\n",
    "* https://xgboost.readthedocs.io/en/latest/python/python_api.html: XGBoost documentation"
   ]
  },
  {
   "cell_type": "markdown",
   "id": "4ea01e88",
   "metadata": {},
   "source": [
    "For the complementary medium post check out https://medium.com/p/d986a958dab4/"
   ]
  }
 ],
 "metadata": {
  "kernelspec": {
   "display_name": "Python 3",
   "language": "python",
   "name": "python3"
  },
  "language_info": {
   "codemirror_mode": {
    "name": "ipython",
    "version": 3
   },
   "file_extension": ".py",
   "mimetype": "text/x-python",
   "name": "python",
   "nbconvert_exporter": "python",
   "pygments_lexer": "ipython3",
   "version": "3.9.5"
  }
 },
 "nbformat": 4,
 "nbformat_minor": 5
}
